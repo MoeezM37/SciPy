{
 "cells": [
  {
   "cell_type": "markdown",
   "id": "f999b875-b4df-41d1-a931-ee28c9831161",
   "metadata": {},
   "source": [
    "# Task 1"
   ]
  },
  {
   "cell_type": "code",
   "execution_count": 1,
   "id": "22394bdc-ee07-47cc-b369-c5838e47e294",
   "metadata": {},
   "outputs": [
    {
     "name": "stdin",
     "output_type": "stream",
     "text": [
      "Enter your first integer number:  7\n",
      "Enter your second integer number:  3\n"
     ]
    },
    {
     "name": "stdout",
     "output_type": "stream",
     "text": [
      "The sum of your two integers is 10\n",
      "The product of your two integers is 21\n",
      "The difference between your two integers is 4\n",
      "The quotient of your two integers is 2.3333333333333335\n"
     ]
    }
   ],
   "source": [
    "val1 = int(input(\"Enter your first integer number: \"))\n",
    "val2 = int(input(\"Enter your second integer number: \"))\n",
    "sum = val1 + val2\n",
    "print(\"The sum of your two integers is \" + str(sum))\n",
    "prod = val1 * val2\n",
    "print(\"The product of your two integers is \" + str(prod))\n",
    "diff = val1 - val2\n",
    "print(\"The difference between your two integers is \" + str(diff))\n",
    "if val2 == 0:\n",
    "    print(\"Your second number is 0 and division by 0 is undefined.\")\n",
    "else:\n",
    "    quo = val1 / val2\n",
    "    print(\"The quotient of your two integers is \" + str(quo))"
   ]
  },
  {
   "cell_type": "markdown",
   "id": "c072ac07-a987-4ae7-b0a3-dc879af24b25",
   "metadata": {},
   "source": [
    "# Task 2"
   ]
  },
  {
   "cell_type": "code",
   "execution_count": 1,
   "id": "d4205f4b-66c0-41d3-b837-0e94d5290853",
   "metadata": {},
   "outputs": [
    {
     "name": "stdin",
     "output_type": "stream",
     "text": [
      "Enter your income:  73301.21\n"
     ]
    },
    {
     "name": "stdout",
     "output_type": "stream",
     "text": [
      "The tax amount you owe is 109951.815\n"
     ]
    }
   ],
   "source": [
    "E = float(input(\"Enter your income: \"))\n",
    "print(\"The tax amount you owe is\", end = ' ')\n",
    "if E <= 10000:\n",
    "    taxE = E * 1.15\n",
    "    print(taxE)\n",
    "elif E <= 30000:\n",
    "    taxE = E * 1.28\n",
    "    print(taxE)\n",
    "elif E <= 70000:\n",
    "    taxE = E * 1.42\n",
    "    print(taxE)\n",
    "else: \n",
    "    taxE = E * 1.50\n",
    "    print(taxE)"
   ]
  },
  {
   "cell_type": "markdown",
   "id": "9744b8b7-b126-48e8-8bce-0e6ab112b5b8",
   "metadata": {},
   "source": [
    "# Task 3"
   ]
  },
  {
   "cell_type": "code",
   "execution_count": 4,
   "id": "9ec3b58a-9ed4-4d07-9c16-43a1f91d306f",
   "metadata": {},
   "outputs": [
    {
     "name": "stdin",
     "output_type": "stream",
     "text": [
      "Enter the numerator of your first fraction:  3\n",
      "Enter the denominator of your first fraction:  7\n",
      "Enter the numerator of your second fraction:  7\n",
      "Enter the denominator of your second fraction:  3\n"
     ]
    },
    {
     "name": "stdout",
     "output_type": "stream",
     "text": [
      "The sum of your fractions is 58/21\n"
     ]
    }
   ],
   "source": [
    "frac_vals = []\n",
    "frac_vals.append(int(input(\"Enter the numerator of your first fraction: \")))\n",
    "frac_vals.append(int(input(\"Enter the denominator of your first fraction: \")))\n",
    "frac_vals.append(int(input(\"Enter the numerator of your second fraction: \")))\n",
    "frac_vals.append(int(input(\"Enter the denominator of your second fraction: \")))\n",
    "if frac_vals[1] >= frac_vals[3]:\n",
    "    lcm = frac_vals[1]\n",
    "else:\n",
    "    lcm = frac_vals[3]\n",
    "while True:\n",
    "    if ((lcm % frac_vals[1] == 0) and (lcm % frac_vals[3] == 0)):\n",
    "        break\n",
    "    lcm += 1\n",
    "res_num = int((lcm // frac_vals[1]) * frac_vals[0] + (lcm // frac_vals[3]) * frac_vals[2])\n",
    "frac_vals.append(res_num)\n",
    "frac_vals.append(lcm)\n",
    "print(\"The sum of your fractions is \" + str(frac_vals[4]) + \"/\" + str(frac_vals[5]))"
   ]
  },
  {
   "cell_type": "markdown",
   "id": "ff34af9b-e45d-4ed8-8ae7-005c464d344d",
   "metadata": {},
   "source": [
    "# Task 4"
   ]
  },
  {
   "cell_type": "code",
   "execution_count": 17,
   "id": "b3f7bd4b-ef5c-4956-a231-b026f4591990",
   "metadata": {},
   "outputs": [
    {
     "name": "stdin",
     "output_type": "stream",
     "text": [
      "Enter your phrase:  google.com\n"
     ]
    },
    {
     "name": "stdout",
     "output_type": "stream",
     "text": [
      "{'g': 2, 'o': 3, 'l': 1, 'e': 1, '.': 1, 'c': 1, 'm': 1}\n"
     ]
    }
   ],
   "source": [
    "phrase = input(\"Enter your phrase: \")\n",
    "char_freq = {}\n",
    "for c in phrase:\n",
    "    if c in char_freq:\n",
    "        char_freq[c] += 1\n",
    "    else:\n",
    "        char_freq[c] = 1\n",
    "print(char_freq)"
   ]
  },
  {
   "cell_type": "code",
   "execution_count": null,
   "id": "faa7d0ff-8bdf-469d-84cb-1493a8eb38c4",
   "metadata": {},
   "outputs": [],
   "source": []
  }
 ],
 "metadata": {
  "kernelspec": {
   "display_name": "Python 3 (ipykernel)",
   "language": "python",
   "name": "python3"
  },
  "language_info": {
   "codemirror_mode": {
    "name": "ipython",
    "version": 3
   },
   "file_extension": ".py",
   "mimetype": "text/x-python",
   "name": "python",
   "nbconvert_exporter": "python",
   "pygments_lexer": "ipython3",
   "version": "3.11.7"
  }
 },
 "nbformat": 4,
 "nbformat_minor": 5
}
