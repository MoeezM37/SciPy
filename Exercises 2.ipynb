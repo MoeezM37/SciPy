{
 "cells": [
  {
   "cell_type": "code",
   "execution_count": 44,
   "id": "52d7e54c-3a18-4cfd-a62a-4055c7abc739",
   "metadata": {},
   "outputs": [
    {
     "data": {
      "text/plain": [
       "'Your number is a prime number.'"
      ]
     },
     "execution_count": 44,
     "metadata": {},
     "output_type": "execute_result"
    }
   ],
   "source": [
    "def is_prime(n):\n",
    "    try:\n",
    "        num = int(n)\n",
    "    except ValueError:\n",
    "        print(\"Your input is not an integer. Please try again.\")\n",
    "    else:\n",
    "        chck = True\n",
    "        if num < 0:\n",
    "            chck = False\n",
    "        elif num == 0 or num == 1:\n",
    "            chck = False\n",
    "        elif num == 2:\n",
    "            chck = True\n",
    "        else:\n",
    "            for i in range(2,num):\n",
    "                if num % i == 0:\n",
    "                    chck = False\n",
    "                    break\n",
    "        if chck == True:\n",
    "            return \"Your number is a prime number.\"\n",
    "        else:\n",
    "            return \"Your number is not a prime number.\"\n",
    "\n",
    "is_prime(\"37\")"
   ]
  },
  {
   "cell_type": "code",
   "execution_count": 48,
   "id": "9e6d5061-1174-44d3-b400-3dccc56ab5ce",
   "metadata": {},
   "outputs": [
    {
     "data": {
      "text/plain": [
       "'Your inputted string is a palindrome.'"
      ]
     },
     "execution_count": 48,
     "metadata": {},
     "output_type": "execute_result"
    }
   ],
   "source": [
    "def is_palindrome(str):\n",
    "    letters = []\n",
    "    letters_rev = []\n",
    "    for c in str:\n",
    "        if c.isalpha() == True:\n",
    "            c = c.upper()\n",
    "            letters.append(c)\n",
    "    for i in range(len(letters)-1,-1,-1):\n",
    "        letters_rev.append(letters[i])\n",
    "    if letters == letters_rev:\n",
    "        return \"Your inputted string is a palindrome.\"\n",
    "    else:\n",
    "        return \"Your inputted string is not a palindrome.\"\n",
    "\n",
    "is_palindrome(\"Madam I'm Adam.\")"
   ]
  },
  {
   "cell_type": "code",
   "execution_count": 54,
   "id": "363ca7f7-f75b-4eec-aa81-44609c60136f",
   "metadata": {},
   "outputs": [
    {
     "data": {
      "text/plain": [
       "32"
      ]
     },
     "execution_count": 54,
     "metadata": {},
     "output_type": "execute_result"
    }
   ],
   "source": [
    "def scalar(a,b):\n",
    "    a1, a2, a3 = a\n",
    "    b1, b2, b3 = b\n",
    "    return a1*b1 + a2*b2 + a3*b3\n",
    "\n",
    "scalar([1,2,3],[4,5,6])"
   ]
  },
  {
   "cell_type": "code",
   "execution_count": 72,
   "id": "a64dd752-817d-4d2e-8c0d-b5c37e69ee52",
   "metadata": {},
   "outputs": [
    {
     "name": "stdin",
     "output_type": "stream",
     "text": [
      "Enter the first number you want to multiply:  23\n",
      "Enter the second number you want to multiply:  45\n"
     ]
    },
    {
     "name": "stdout",
     "output_type": "stream",
     "text": [
      "23 x 45 = 1035\n"
     ]
    }
   ],
   "source": [
    "try:\n",
    "    n1 = int(input(\"Enter the first number you want to multiply: \"))\n",
    "    n2 = int(input(\"Enter the second number you want to multiply: \"))\n",
    "except ValueError:\n",
    "    print(\"The number you entered is not an integer. Please try again.\")\n",
    "if n1 <= 0 or n2 <= 0:\n",
    "    print(\"Please enter positive non-zero integers only.\")\n",
    "else:\n",
    "    a = n1\n",
    "    b = n2\n",
    "    nums = [(n1,n2)]\n",
    "    sum = 0\n",
    "    while n1 > 1:\n",
    "        n1 //= 2\n",
    "        n2 *= 2\n",
    "        nums.append((n1, n2))\n",
    "    for i in range(len(nums)):\n",
    "        if nums[i][0] % 2 != 0:\n",
    "            sum += nums[i][1]\n",
    "print(str(a) + \" x \" + str(b) + \" = \" + str(sum))"
   ]
  },
  {
   "cell_type": "code",
   "execution_count": null,
   "id": "4ab3f137-9034-4134-a92d-83f5d3bd66c1",
   "metadata": {},
   "outputs": [],
   "source": []
  }
 ],
 "metadata": {
  "kernelspec": {
   "display_name": "Python 3 (ipykernel)",
   "language": "python",
   "name": "python3"
  },
  "language_info": {
   "codemirror_mode": {
    "name": "ipython",
    "version": 3
   },
   "file_extension": ".py",
   "mimetype": "text/x-python",
   "name": "python",
   "nbconvert_exporter": "python",
   "pygments_lexer": "ipython3",
   "version": "3.11.7"
  }
 },
 "nbformat": 4,
 "nbformat_minor": 5
}
