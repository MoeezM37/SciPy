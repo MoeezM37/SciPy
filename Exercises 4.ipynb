{
 "cells": [
  {
   "cell_type": "code",
   "execution_count": 1,
   "id": "40819929-fa63-4882-9b5e-e1fbc00bab3d",
   "metadata": {},
   "outputs": [
    {
     "name": "stdout",
     "output_type": "stream",
     "text": [
      "You would like to find the median of a list of numbers.\n"
     ]
    },
    {
     "name": "stdin",
     "output_type": "stream",
     "text": [
      "Enter a number to add to the list (Enter X to terminate):  7\n"
     ]
    },
    {
     "name": "stdout",
     "output_type": "stream",
     "text": [
      "Your list of numbers to find the median of is  [7.0]\n"
     ]
    },
    {
     "name": "stdin",
     "output_type": "stream",
     "text": [
      "Enter a number to add to the list (Enter X to terminate):  3\n"
     ]
    },
    {
     "name": "stdout",
     "output_type": "stream",
     "text": [
      "Your list of numbers to find the median of is  [7.0, 3.0]\n"
     ]
    },
    {
     "name": "stdin",
     "output_type": "stream",
     "text": [
      "Enter a number to add to the list (Enter X to terminate):  9\n"
     ]
    },
    {
     "name": "stdout",
     "output_type": "stream",
     "text": [
      "Your list of numbers to find the median of is  [7.0, 3.0, 9.0]\n"
     ]
    },
    {
     "name": "stdin",
     "output_type": "stream",
     "text": [
      "Enter a number to add to the list (Enter X to terminate):  7\n"
     ]
    },
    {
     "name": "stdout",
     "output_type": "stream",
     "text": [
      "Your list of numbers to find the median of is  [7.0, 3.0, 9.0, 7.0]\n"
     ]
    },
    {
     "name": "stdin",
     "output_type": "stream",
     "text": [
      "Enter a number to add to the list (Enter X to terminate):  5\n"
     ]
    },
    {
     "name": "stdout",
     "output_type": "stream",
     "text": [
      "Your list of numbers to find the median of is  [7.0, 3.0, 9.0, 7.0, 5.0]\n"
     ]
    },
    {
     "name": "stdin",
     "output_type": "stream",
     "text": [
      "Enter a number to add to the list (Enter X to terminate):  1\n"
     ]
    },
    {
     "name": "stdout",
     "output_type": "stream",
     "text": [
      "Your list of numbers to find the median of is  [7.0, 3.0, 9.0, 7.0, 5.0, 1.0]\n"
     ]
    },
    {
     "name": "stdin",
     "output_type": "stream",
     "text": [
      "Enter a number to add to the list (Enter X to terminate):  9\n"
     ]
    },
    {
     "name": "stdout",
     "output_type": "stream",
     "text": [
      "Your list of numbers to find the median of is  [7.0, 3.0, 9.0, 7.0, 5.0, 1.0, 9.0]\n"
     ]
    },
    {
     "name": "stdin",
     "output_type": "stream",
     "text": [
      "Enter a number to add to the list (Enter X to terminate):  3\n"
     ]
    },
    {
     "name": "stdout",
     "output_type": "stream",
     "text": [
      "Your list of numbers to find the median of is  [7.0, 3.0, 9.0, 7.0, 5.0, 1.0, 9.0, 3.0]\n"
     ]
    },
    {
     "name": "stdin",
     "output_type": "stream",
     "text": [
      "Enter a number to add to the list (Enter X to terminate):  x\n"
     ]
    },
    {
     "name": "stdout",
     "output_type": "stream",
     "text": [
      "Your list of numbers when sorted is  [1.0, 3.0, 3.0, 5.0, 7.0, 7.0, 9.0, 9.0]\n",
      "The median of your list  [7.0, 3.0, 9.0, 7.0, 5.0, 1.0, 9.0, 3.0]  is  7.0\n"
     ]
    }
   ],
   "source": [
    "import math\n",
    "\n",
    "def median():\n",
    "    nums = []\n",
    "    print(\"You would like to find the median of a list of numbers.\")\n",
    "    while True:\n",
    "        userIn = input(\"Enter a number to add to the list (Enter X to terminate): \")\n",
    "        if userIn == \"X\" or userIn == \"x\":\n",
    "            if nums:\n",
    "                break\n",
    "            else:\n",
    "                print(\"Your list of numbers is empty. Please enter at least one number.\")\n",
    "                continue\n",
    "        else:\n",
    "            try:\n",
    "                numIn = float(userIn)\n",
    "            except Exception:\n",
    "                print(\"Your input is not a valid number. Please try again.\")\n",
    "                continue\n",
    "            else:\n",
    "                if math.isnan(numIn) or math.isinf(numIn):\n",
    "                    print(\"Your input is not a valid number. Please try again.\")\n",
    "                    continue\n",
    "                else:\n",
    "                    nums.append(numIn)\n",
    "                    print(\"Your list of numbers to find the median of is \", nums)\n",
    "    sortedNums = sorted(nums)\n",
    "    print(\"Your list of numbers when sorted is \", sortedNums)\n",
    "    qty = len(sortedNums)\n",
    "    if qty % 2 == 0:\n",
    "        index1 = int(qty/2)\n",
    "        index2 = int((qty/2)+1)\n",
    "        median = 0.5*(sortedNums[index1] + sortedNums[index2])\n",
    "    else:\n",
    "        index = int((qty+1)/2)\n",
    "        median = sortedNums[index]\n",
    "    print(\"The median of your list \", nums, \" is \", median)\n",
    "\n",
    "median()"
   ]
  },
  {
   "cell_type": "code",
   "execution_count": 16,
   "id": "24936199-b6ed-46b5-af93-88c23a037255",
   "metadata": {},
   "outputs": [
    {
     "name": "stdout",
     "output_type": "stream",
     "text": [
      "The sum of all natural numbers from 1 to 7 is  28\n",
      "The sum of all natural numbers from 1 to 7 is  28\n"
     ]
    }
   ],
   "source": [
    "def sum_it(n):\n",
    "    try:\n",
    "        num = int(n)\n",
    "    except Exception:\n",
    "        print(\"Please enter a natural number and try again.\")\n",
    "    else:\n",
    "        if num <= 0:\n",
    "            print(\"Please enter a natural number and try again.\")\n",
    "        else:\n",
    "            sum = 0\n",
    "            for i in range(num, 0, -1):\n",
    "                sum += i\n",
    "            return sum\n",
    "\n",
    "def sum_rek(n):\n",
    "    try:\n",
    "        num = int(n)\n",
    "    except Exception:\n",
    "        print(\"Please enter a natural number and try again.\")\n",
    "    else:\n",
    "        if num <= 0:\n",
    "            print(\"Please enter a natural number and try again.\")\n",
    "        else:\n",
    "            if num == 1:\n",
    "                sum = 1\n",
    "            else:\n",
    "                sum = num + sum_rek(num-1)\n",
    "            return sum\n",
    "\n",
    "test = 7\n",
    "print(\"The sum of all natural numbers from 1 to\", test, \"is \", sum_it(test))\n",
    "print(\"The sum of all natural numbers from 1 to\", test, \"is \", sum_rek(test))"
   ]
  },
  {
   "cell_type": "code",
   "execution_count": 8,
   "id": "933b99ac-4d1f-42e4-837a-ce37a1b2c3f7",
   "metadata": {},
   "outputs": [
    {
     "name": "stdin",
     "output_type": "stream",
     "text": [
      "Enter a year from 1582 onwards:  1977\n"
     ]
    },
    {
     "name": "stdout",
     "output_type": "stream",
     "text": [
      "1977 is not a leap year\n"
     ]
    }
   ],
   "source": [
    "while True:\n",
    "    try:\n",
    "        yearIn = int(input(\"Enter a year from 1582 onwards: \"))\n",
    "    except Exception:\n",
    "        print(\"You did not enter a valid year. Please try again.\")\n",
    "        continue\n",
    "    else:\n",
    "        if yearIn >= 1582:\n",
    "            break\n",
    "        else:\n",
    "            print(\"You did not enter a valid year. Please try again.\")\n",
    "            continue\n",
    "if yearIn % 4 == 0 and yearIn % 100 != 0:\n",
    "    print(yearIn, \"is a leap year\")\n",
    "elif yearIn % 400 == 0:\n",
    "    print(yearIn, \"is a leap year\")\n",
    "else:\n",
    "    print(yearIn, \"is not a leap year\")"
   ]
  },
  {
   "cell_type": "code",
   "execution_count": 11,
   "id": "658eebf9-28b9-4abe-b000-8b87c6c32517",
   "metadata": {},
   "outputs": [
    {
     "name": "stdout",
     "output_type": "stream",
     "text": [
      "The mean of the csv file is  0.5121411196852924\n",
      "The mean of the npy file is  0.5121411196852924\n",
      "The variance of the csv file is  0.08453910618718001\n",
      "The variance of the npy file is  0.08453910618718001\n",
      "The standard deviation of the csv file is  0.29075609398115804\n",
      "The standard deviation of the npy file is  0.29075609398115804\n"
     ]
    }
   ],
   "source": [
    "import numpy as np\n",
    "\n",
    "arrIn = np.random.rand(1000)\n",
    "np.savetxt(\"task4.csv\", arrIn, delimiter = \",\")\n",
    "np.save(\"task4.npy\", arrIn)\n",
    "arrOutCsv = np.loadtxt(\"task4.csv\", delimiter = \",\")\n",
    "arrOutNpy = np.load(\"task4.npy\")\n",
    "meanCsv = arrOutCsv.mean()\n",
    "print(\"The mean of the csv file is \", meanCsv)\n",
    "meanNpy = arrOutNpy.mean()\n",
    "print(\"The mean of the npy file is \", meanNpy)\n",
    "varCsv = np.var(arrOutCsv)\n",
    "print(\"The variance of the csv file is \", varCsv)\n",
    "varNpy = np.var(arrOutNpy)\n",
    "print(\"The variance of the npy file is \", varNpy)\n",
    "stdCsv = np.std(arrOutCsv)\n",
    "print(\"The standard deviation of the csv file is \", stdCsv)\n",
    "stdNpy = np.std(arrOutNpy)\n",
    "print(\"The standard deviation of the npy file is \", stdNpy)\n",
    "\n",
    "## No difference in results"
   ]
  },
  {
   "cell_type": "code",
   "execution_count": null,
   "id": "f7b8cefa-899a-4089-8a6c-d6a9796a32cf",
   "metadata": {},
   "outputs": [],
   "source": []
  }
 ],
 "metadata": {
  "kernelspec": {
   "display_name": "Python 3 (ipykernel)",
   "language": "python",
   "name": "python3"
  },
  "language_info": {
   "codemirror_mode": {
    "name": "ipython",
    "version": 3
   },
   "file_extension": ".py",
   "mimetype": "text/x-python",
   "name": "python",
   "nbconvert_exporter": "python",
   "pygments_lexer": "ipython3",
   "version": "3.11.7"
  }
 },
 "nbformat": 4,
 "nbformat_minor": 5
}
