{
 "cells": [
  {
   "cell_type": "code",
   "execution_count": 13,
   "id": "fd72dac8-506c-4423-b184-4b67fe682caa",
   "metadata": {},
   "outputs": [
    {
     "name": "stdin",
     "output_type": "stream",
     "text": [
      "Enter E/e to encrypt a text or D/d to decrypt:  d\n",
      "Enter letter shift (0 - 25) for Caesar algorithm:  14\n",
      "Enter text to decrypt (Warning: only letters will be encrypted!):  Hslh qhjah lza\n"
     ]
    },
    {
     "name": "stdout",
     "output_type": "stream",
     "text": [
      "Your decrypted text is: Text ctvmt xlm\n"
     ]
    }
   ],
   "source": [
    "while True:\n",
    "    mode = input(\"Enter E/e to encrypt a text or D/d to decrypt: \")\n",
    "    if mode == \"E\" or mode == \"e\" or mode == \"D\" or mode == \"d\":\n",
    "        break\n",
    "while True:\n",
    "    try:\n",
    "        code = int(input(\"Enter letter shift (0 - 25) for Caesar algorithm: \"))\n",
    "    except ValueError:\n",
    "        print(\"The letter shift has to be an integer between 0 and 25. Please try again.\")\n",
    "    else:\n",
    "        if code >= 0 and code <= 25:\n",
    "            break\n",
    "textOut = \"\"\n",
    "if mode == \"E\" or mode == \"e\":\n",
    "    textIn = input(\"Enter text to encrypt (Warning: only letters will be encrypted!): \")\n",
    "    for c in textIn:\n",
    "        if c.isupper():\n",
    "            out = chr((((ord(c) - 65) + code) % 26) + 65)\n",
    "        elif c.islower():\n",
    "            out = chr((((ord(c) - 97) + code) % 26) + 97)\n",
    "        else:\n",
    "            out = c\n",
    "        textOut += out\n",
    "    print(\"Your encrypted text is: \" + textOut)\n",
    "if mode == \"D\" or mode == \"d\":\n",
    "    textIn = input(\"Enter text to decrypt (Warning: only letters will be encrypted!): \")\n",
    "    for c in textIn:\n",
    "        if c.isupper():\n",
    "            out = chr((((ord(c) - 65) - code) % 26) + 65)\n",
    "        elif c.islower():\n",
    "            out = chr((((ord(c) - 97) - code) % 26) + 97)\n",
    "        else:\n",
    "            out = c\n",
    "        textOut += out\n",
    "    print(\"Your decrypted text is: \" + textOut)"
   ]
  },
  {
   "cell_type": "code",
   "execution_count": 12,
   "id": "ada1c5b2-1eb1-4a76-8ec9-25731c1a349a",
   "metadata": {},
   "outputs": [
    {
     "name": "stdin",
     "output_type": "stream",
     "text": [
      "Enter a Euro serial number:  n15000723228\n"
     ]
    },
    {
     "name": "stdout",
     "output_type": "stream",
     "text": [
      "Your inputted Euro serial number is valid.\n"
     ]
    }
   ],
   "source": [
    "while True:\n",
    "    serial = input(\"Enter a Euro serial number: \")\n",
    "    serialLetter = serial[0]\n",
    "    serialNums = serial[1:len(serial)-1]\n",
    "    serialCheck = serial[-1]\n",
    "    if serialLetter.isalpha() and serialNums.isdecimal() and len(serialNums) == 10 and serialCheck.isdecimal():\n",
    "        break\n",
    "if serialLetter.isupper():\n",
    "    serialCCode = str(ord(serialLetter) - 64)\n",
    "elif serialLetter.islower():\n",
    "    serialCCode = str(ord(serialLetter) - 96)\n",
    "serialSumNums = []\n",
    "for i in serialCCode:\n",
    "    serialSumNums.append(i)\n",
    "for i in serialNums:\n",
    "    serialSumNums.append(i)\n",
    "serialSum = 0\n",
    "for i in serialSumNums:\n",
    "    serialSum += int(i)\n",
    "if serialSum % 9 == 8:\n",
    "    trueCheck = 9\n",
    "else:\n",
    "    trueCheck = 8 - (serialSum % 9)\n",
    "if int(serialCheck) == trueCheck:\n",
    "    print(\"Your inputted Euro serial number is valid.\")\n",
    "else:\n",
    "    print(\"Your inputted Euro serial number is invalid.\")"
   ]
  },
  {
   "cell_type": "code",
   "execution_count": null,
   "id": "70bc0ac5-b68d-4fc8-aa70-d4ffd589c884",
   "metadata": {},
   "outputs": [],
   "source": []
  }
 ],
 "metadata": {
  "kernelspec": {
   "display_name": "Python 3 (ipykernel)",
   "language": "python",
   "name": "python3"
  },
  "language_info": {
   "codemirror_mode": {
    "name": "ipython",
    "version": 3
   },
   "file_extension": ".py",
   "mimetype": "text/x-python",
   "name": "python",
   "nbconvert_exporter": "python",
   "pygments_lexer": "ipython3",
   "version": "3.11.7"
  }
 },
 "nbformat": 4,
 "nbformat_minor": 5
}
